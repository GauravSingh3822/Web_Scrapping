{
 "cells": [
  {
   "cell_type": "code",
   "execution_count": 6,
   "id": "1fab9335-dd84-44aa-a9c8-235959caf306",
   "metadata": {},
   "outputs": [],
   "source": [
    "import requests\n",
    "from urllib.request import urlopen\n",
    "from bs4 import BeautifulSoup as bs\n",
    "import logging\n",
    "import time \n",
    "import urllib.request\n",
    "import ssl"
   ]
  },
  {
   "cell_type": "code",
   "execution_count": 7,
   "id": "c3e3c3b4-a5cf-4168-890e-3f37e94c1da9",
   "metadata": {},
   "outputs": [],
   "source": [
    "flipcart_url=\"https://www.flipkart.com/search?q=\"+\"iphone12pro\""
   ]
  },
  {
   "cell_type": "code",
   "execution_count": 43,
   "id": "77faf002-f007-47a6-baf8-d3881e27b5d1",
   "metadata": {},
   "outputs": [
    {
     "name": "stdout",
     "output_type": "stream",
     "text": [
      "Defaulting to user installation because normal site-packages is not writeable\n",
      "Requirement already satisfied: requests in c:\\programdata\\anaconda3\\lib\\site-packages (2.31.0)\n",
      "Requirement already satisfied: charset-normalizer<4,>=2 in c:\\programdata\\anaconda3\\lib\\site-packages (from requests) (2.0.4)\n",
      "Requirement already satisfied: idna<4,>=2.5 in c:\\programdata\\anaconda3\\lib\\site-packages (from requests) (3.4)\n",
      "Requirement already satisfied: urllib3<3,>=1.21.1 in c:\\programdata\\anaconda3\\lib\\site-packages (from requests) (2.0.7)\n",
      "Requirement already satisfied: certifi>=2017.4.17 in c:\\programdata\\anaconda3\\lib\\site-packages (from requests) (2024.2.2)\n"
     ]
    }
   ],
   "source": [
    "!pip install requests"
   ]
  },
  {
   "cell_type": "code",
   "execution_count": 8,
   "id": "1952172c-417b-4a56-9e95-4548190fe136",
   "metadata": {},
   "outputs": [
    {
     "data": {
      "text/plain": [
       "'https://www.flipkart.com/search?q=iphone12pro'"
      ]
     },
     "execution_count": 8,
     "metadata": {},
     "output_type": "execute_result"
    }
   ],
   "source": [
    "flipcart_url"
   ]
  },
  {
   "cell_type": "code",
   "execution_count": 9,
   "id": "3e788f69-1095-4a41-b6bf-c702e0a48de1",
   "metadata": {},
   "outputs": [],
   "source": [
    "# Disable SSL verification\n",
    "ssl._create_default_https_context = ssl._create_unverified_context"
   ]
  },
  {
   "cell_type": "code",
   "execution_count": 80,
   "id": "163c82df-2c2b-4d85-854b-7b085778dbf2",
   "metadata": {},
   "outputs": [],
   "source": [
    "urlclient=urlopen(flipcart_url)"
   ]
  },
  {
   "cell_type": "code",
   "execution_count": 81,
   "id": "afa8d784-931c-4206-87a6-26ca30a48b7e",
   "metadata": {},
   "outputs": [
    {
     "data": {
      "text/plain": [
       "<http.client.HTTPResponse at 0x20785a84e20>"
      ]
     },
     "execution_count": 81,
     "metadata": {},
     "output_type": "execute_result"
    }
   ],
   "source": [
    "urlclient"
   ]
  },
  {
   "cell_type": "code",
   "execution_count": 82,
   "id": "afae547b-f4bb-47bf-b026-cb8298982e34",
   "metadata": {},
   "outputs": [],
   "source": [
    "flipcart_page = urlclient.read()"
   ]
  },
  {
   "cell_type": "code",
   "execution_count": 83,
   "id": "7f1e8f72-1e1c-4496-bd8a-47c296bed34c",
   "metadata": {},
   "outputs": [],
   "source": [
    "flipcart_html = bs(flipcart_page,'html.parser')"
   ]
  },
  {
   "cell_type": "code",
   "execution_count": 84,
   "id": "5d40ac22-5852-4efd-b284-2a007c0585dc",
   "metadata": {},
   "outputs": [
    {
     "data": {
      "text/plain": [
       "'https://www.flipkart.com/apple-iphone-12-pro-gold-256-gb/p/itm43a6a8ee7a1e7?pid=MOBFWBYZ9NGKZS9W&amp;lid=LSTMOBFWBYZ9NGKZS9WKCMR0H&amp;marketplace=FLIPKART&amp;q=iphone12pro&amp;store=tyy%2F4io&amp;srno=s_1_3&amp;otracker=search&amp;fm=organic&amp;iid=57d922b5-e1be-4ed7-993f-53f09e6ef9f4.MOBFWBYZ9NGKZS9W.SEARCH&amp;ppt=None&amp;ppn=None&amp;ssid=v96nc3xd4g0000001724033733077&amp;qH=712933e6bd68e7b9'"
      ]
     },
     "execution_count": 84,
     "metadata": {},
     "output_type": "execute_result"
    }
   ],
   "source": [
    "\"https://www.flipkart.com/\"+\"apple-iphone-12-pro-gold-256-gb/p/itm43a6a8ee7a1e7?pid=MOBFWBYZ9NGKZS9W&amp;lid=LSTMOBFWBYZ9NGKZS9WKCMR0H&amp;marketplace=FLIPKART&amp;q=iphone12pro&amp;store=tyy%2F4io&amp;srno=s_1_3&amp;otracker=search&amp;fm=organic&amp;iid=57d922b5-e1be-4ed7-993f-53f09e6ef9f4.MOBFWBYZ9NGKZS9W.SEARCH&amp;ppt=None&amp;ppn=None&amp;ssid=v96nc3xd4g0000001724033733077&amp;qH=712933e6bd68e7b9\""
   ]
  },
  {
   "cell_type": "code",
   "execution_count": 85,
   "id": "708177f7-893b-41cb-b912-dc93fb191ac7",
   "metadata": {},
   "outputs": [],
   "source": [
    "bigbox = flipcart_html.find_all(\"div\",{\"class\":\"cPHDOP col-12-12\"})"
   ]
  },
  {
   "cell_type": "code",
   "execution_count": 86,
   "id": "e648a48c-172a-4a3e-b9fc-16843aa1be02",
   "metadata": {},
   "outputs": [
    {
     "data": {
      "text/plain": [
       "29"
      ]
     },
     "execution_count": 86,
     "metadata": {},
     "output_type": "execute_result"
    }
   ],
   "source": [
    "len(bigbox)"
   ]
  },
  {
   "cell_type": "code",
   "execution_count": 187,
   "id": "4503d8b3-7c97-4cae-a0cf-695d7be7d4a0",
   "metadata": {},
   "outputs": [
    {
     "name": "stdout",
     "output_type": "stream",
     "text": [
      "'https://www.flipkart.com/apple-iphone-12-pro-max-pacific-blue-128-gb/p/itmd89812b558a03?pid=MOBFWBYZZABKHZQA&lid=LSTMOBFWBYZZABKHZQATE6G93&marketplace=FLIPKART&q=iphone12pro&store=tyy%2F4io&srno=s_1_2&otracker=search&fm=organic&iid=7ffe363c-f116-4da7-8410-2d6874da9b35.MOBFWBYZZABKHZQA.SEARCH&ppt=None&ppn=None&ssid=2u28rm6rm80000001724039290907&qH=712933e6bd68e7b9\n",
      "'https://www.flipkart.com/apple-iphone-12-pro-gold-512-gb/p/itm157b3be191fd1?pid=MOBFWBYZGKFYVTWH&lid=LSTMOBFWBYZGKFYVTWHR65UKC&marketplace=FLIPKART&q=iphone12pro&store=tyy%2F4io&srno=s_1_3&otracker=search&fm=organic&iid=7ffe363c-f116-4da7-8410-2d6874da9b35.MOBFWBYZGKFYVTWH.SEARCH&ppt=None&ppn=None&ssid=2u28rm6rm80000001724039290907&qH=712933e6bd68e7b9\n",
      "'https://www.flipkart.com/apple-iphone-12-pro-silver-256-gb/p/itm41ac927e82906?pid=MOBFWBYZMZTJZTWK&lid=LSTMOBFWBYZMZTJZTWKDI2TP0&marketplace=FLIPKART&q=iphone12pro&store=tyy%2F4io&srno=s_1_4&otracker=search&fm=organic&iid=7ffe363c-f116-4da7-8410-2d6874da9b35.MOBFWBYZMZTJZTWK.SEARCH&ppt=None&ppn=None&ssid=2u28rm6rm80000001724039290907&qH=712933e6bd68e7b9\n",
      "'https://www.flipkart.com/apple-iphone-12-pro-max-silver-512-gb/p/itm5d3d37892544f?pid=MOBFWBYZW38NGPNM&lid=LSTMOBFWBYZW38NGPNMW4SVPI&marketplace=FLIPKART&q=iphone12pro&store=tyy%2F4io&srno=s_1_5&otracker=search&fm=organic&iid=7ffe363c-f116-4da7-8410-2d6874da9b35.MOBFWBYZW38NGPNM.SEARCH&ppt=None&ppn=None&ssid=2u28rm6rm80000001724039290907&qH=712933e6bd68e7b9\n",
      "'https://www.flipkart.com/apple-iphone-12-pro-max-silver-256-gb/p/itm30faf74442adb?pid=MOBFWBYZZH4AM8FE&lid=LSTMOBFWBYZZH4AM8FETYFBOG&marketplace=FLIPKART&q=iphone12pro&store=tyy%2F4io&srno=s_1_6&otracker=search&fm=organic&iid=7ffe363c-f116-4da7-8410-2d6874da9b35.MOBFWBYZZH4AM8FE.SEARCH&ppt=None&ppn=None&ssid=2u28rm6rm80000001724039290907&qH=712933e6bd68e7b9\n",
      "'https://www.flipkart.com/apple-iphone-12-pro-max-gold-512-gb/p/itmd164e2fef2871?pid=MOBFWBYZ4AG3FGNW&lid=LSTMOBFWBYZ4AG3FGNWL6UEHL&marketplace=FLIPKART&q=iphone12pro&store=tyy%2F4io&srno=s_1_7&otracker=search&fm=organic&iid=7ffe363c-f116-4da7-8410-2d6874da9b35.MOBFWBYZ4AG3FGNW.SEARCH&ppt=None&ppn=None&ssid=2u28rm6rm80000001724039290907&qH=712933e6bd68e7b9\n",
      "'https://www.flipkart.com/apple-iphone-12-pro-max-graphite-512-gb/p/itm52a5e8e630441?pid=MOBFWBYZZZ6DWWFZ&lid=LSTMOBFWBYZZZ6DWWFZJWJVPK&marketplace=FLIPKART&q=iphone12pro&store=tyy%2F4io&srno=s_1_8&otracker=search&fm=organic&iid=7ffe363c-f116-4da7-8410-2d6874da9b35.MOBFWBYZZZ6DWWFZ.SEARCH&ppt=None&ppn=None&ssid=2u28rm6rm80000001724039290907&qH=712933e6bd68e7b9\n",
      "'https://www.flipkart.com/apple-iphone-12-pro-max-pacific-blue-256-gb/p/itm3a0860c94250e?pid=MOBFWBYZ8STJXCVT&lid=LSTMOBFWBYZ8STJXCVTQTZADP&marketplace=FLIPKART&q=iphone12pro&store=tyy%2F4io&srno=s_1_9&otracker=search&fm=organic&iid=7ffe363c-f116-4da7-8410-2d6874da9b35.MOBFWBYZ8STJXCVT.SEARCH&ppt=None&ppn=None&ssid=2u28rm6rm80000001724039290907&qH=712933e6bd68e7b9\n",
      "'https://www.flipkart.com/apple-iphone-12-pro-max-graphite-128-gb/p/itm973c298184f51?pid=MOBFWBYZFDGQSDWS&lid=LSTMOBFWBYZFDGQSDWSWMBEA6&marketplace=FLIPKART&q=iphone12pro&store=tyy%2F4io&srno=s_1_10&otracker=search&fm=organic&iid=7ffe363c-f116-4da7-8410-2d6874da9b35.MOBFWBYZFDGQSDWS.SEARCH&ppt=None&ppn=None&ssid=2u28rm6rm80000001724039290907&qH=712933e6bd68e7b9\n",
      "'https://www.flipkart.com/apple-iphone-12-pro-gold-256-gb/p/itm43a6a8ee7a1e7?pid=MOBFWBYZ9NGKZS9W&lid=LSTMOBFWBYZ9NGKZS9WYZ2SXA&marketplace=FLIPKART&q=iphone12pro&store=tyy%2F4io&srno=s_1_11&otracker=search&fm=organic&iid=7ffe363c-f116-4da7-8410-2d6874da9b35.MOBFWBYZ9NGKZS9W.SEARCH&ppt=None&ppn=None&ssid=2u28rm6rm80000001724039290907&qH=712933e6bd68e7b9\n",
      "'https://www.flipkart.com/apple-iphone-12-pro-max-gold-256-gb/p/itm1e0354f5bbc8c?pid=MOBFWBYZZPW8JHQF&lid=LSTMOBFWBYZZPW8JHQFVJR3PO&marketplace=FLIPKART&q=iphone12pro&store=tyy%2F4io&srno=s_1_12&otracker=search&fm=organic&iid=7ffe363c-f116-4da7-8410-2d6874da9b35.MOBFWBYZZPW8JHQF.SEARCH&ppt=None&ppn=None&ssid=2u28rm6rm80000001724039290907&qH=712933e6bd68e7b9\n",
      "'https://www.flipkart.com/apple-iphone-12-pro-graphite-512-gb/p/itmdf0ffb4f2150f?pid=MOBFWBYZ4ZZ5VUQD&lid=LSTMOBFWBYZ4ZZ5VUQDSMPMJK&marketplace=FLIPKART&q=iphone12pro&store=tyy%2F4io&srno=s_1_13&otracker=search&fm=organic&iid=7ffe363c-f116-4da7-8410-2d6874da9b35.MOBFWBYZ4ZZ5VUQD.SEARCH&ppt=None&ppn=None&ssid=2u28rm6rm80000001724039290907&qH=712933e6bd68e7b9\n",
      "'https://www.flipkart.com/apple-iphone-12-pro-max-graphite-256-gb/p/itm8dbdf0b986725?pid=MOBFWBYZEF6XQ5ZW&lid=LSTMOBFWBYZEF6XQ5ZWBZ3ZKD&marketplace=FLIPKART&q=iphone12pro&store=tyy%2F4io&srno=s_1_14&otracker=search&fm=organic&iid=7ffe363c-f116-4da7-8410-2d6874da9b35.MOBFWBYZEF6XQ5ZW.SEARCH&ppt=None&ppn=None&ssid=2u28rm6rm80000001724039290907&qH=712933e6bd68e7b9\n",
      "'https://www.flipkart.com/apple-iphone-12-pro-silver-512-gb/p/itm0ccf9fc219a71?pid=MOBFWBYZ5UY6ZBVA&lid=LSTMOBFWBYZ5UY6ZBVAWNVLCR&marketplace=FLIPKART&q=iphone12pro&store=tyy%2F4io&srno=s_1_15&otracker=search&fm=organic&iid=7ffe363c-f116-4da7-8410-2d6874da9b35.MOBFWBYZ5UY6ZBVA.SEARCH&ppt=None&ppn=None&ssid=2u28rm6rm80000001724039290907&qH=712933e6bd68e7b9\n",
      "'https://www.flipkart.com/apple-iphone-12-pro-pacific-blue-128-gb/p/itm97c833296c221?pid=MOBFWBYZXYSCEEEH&lid=LSTMOBFWBYZXYSCEEEHLGQLJT&marketplace=FLIPKART&q=iphone12pro&store=tyy%2F4io&srno=s_1_16&otracker=search&fm=organic&iid=7ffe363c-f116-4da7-8410-2d6874da9b35.MOBFWBYZXYSCEEEH.SEARCH&ppt=None&ppn=None&ssid=2u28rm6rm80000001724039290907&qH=712933e6bd68e7b9\n",
      "'https://www.flipkart.com/apple-iphone-12-pro-pacific-blue-256-gb/p/itmea897274baa30?pid=MOBFWBYZVRPH2UCD&lid=LSTMOBFWBYZVRPH2UCDKBB2PK&marketplace=FLIPKART&q=iphone12pro&store=tyy%2F4io&srno=s_1_17&otracker=search&fm=organic&iid=7ffe363c-f116-4da7-8410-2d6874da9b35.MOBFWBYZVRPH2UCD.SEARCH&ppt=None&ppn=None&ssid=2u28rm6rm80000001724039290907&qH=712933e6bd68e7b9\n",
      "'https://www.flipkart.com/apple-iphone-12-pro-gold-128-gb/p/itma14a108237af5?pid=MOBFWBYZMDJZMHA9&lid=LSTMOBFWBYZMDJZMHA9SVNUXV&marketplace=FLIPKART&q=iphone12pro&store=tyy%2F4io&srno=s_1_18&otracker=search&fm=organic&iid=7ffe363c-f116-4da7-8410-2d6874da9b35.MOBFWBYZMDJZMHA9.SEARCH&ppt=None&ppn=None&ssid=2u28rm6rm80000001724039290907&qH=712933e6bd68e7b9\n",
      "'https://www.flipkart.com/apple-iphone-12-pro-graphite-256-gb/p/itm4fa4da575698c?pid=MOBFWBYZBA36UB7G&lid=LSTMOBFWBYZBA36UB7GZYS7EA&marketplace=FLIPKART&q=iphone12pro&store=tyy%2F4io&srno=s_1_19&otracker=search&fm=organic&iid=7ffe363c-f116-4da7-8410-2d6874da9b35.MOBFWBYZBA36UB7G.SEARCH&ppt=None&ppn=None&ssid=2u28rm6rm80000001724039290907&qH=712933e6bd68e7b9\n",
      "'https://www.flipkart.com/apple-iphone-12-pro-silver-128-gb/p/itmaebc8a0edc292?pid=MOBFWBYZSGN526X4&lid=LSTMOBFWBYZSGN526X4XSCKOE&marketplace=FLIPKART&q=iphone12pro&store=tyy%2F4io&srno=s_1_20&otracker=search&fm=organic&iid=7ffe363c-f116-4da7-8410-2d6874da9b35.MOBFWBYZSGN526X4.SEARCH&ppt=None&ppn=None&ssid=2u28rm6rm80000001724039290907&qH=712933e6bd68e7b9\n",
      "'https://www.flipkart.com/apple-iphone-12-pro-pacific-blue-512-gb/p/itm8a39d6779b04e?pid=MOBFWBYZTHSXKMGW&lid=LSTMOBFWBYZTHSXKMGWYPOFI5&marketplace=FLIPKART&q=iphone12pro&store=tyy%2F4io&srno=s_1_21&otracker=search&fm=organic&iid=7ffe363c-f116-4da7-8410-2d6874da9b35.MOBFWBYZTHSXKMGW.SEARCH&ppt=None&ppn=None&ssid=2u28rm6rm80000001724039290907&qH=712933e6bd68e7b9\n",
      "'https://www.flipkart.com/apple-iphone-12-pro-max-gold-128-gb/p/itme3ae592065711?pid=MOBFWBYZQVKT77YH&lid=LSTMOBFWBYZQVKT77YHP1ERRT&marketplace=FLIPKART&q=iphone12pro&store=tyy%2F4io&srno=s_1_22&otracker=search&fm=organic&iid=7ffe363c-f116-4da7-8410-2d6874da9b35.MOBFWBYZQVKT77YH.SEARCH&ppt=None&ppn=None&ssid=2u28rm6rm80000001724039290907&qH=712933e6bd68e7b9\n",
      "'https://www.flipkart.com/apple-iphone-12-pro-max-pacific-blue-512-gb/p/itme005d7afeb4a3?pid=MOBFWBYZPW4KW4XX&lid=LSTMOBFWBYZPW4KW4XXXYHC14&marketplace=FLIPKART&q=iphone12pro&store=tyy%2F4io&srno=s_1_23&otracker=search&fm=organic&iid=7ffe363c-f116-4da7-8410-2d6874da9b35.MOBFWBYZPW4KW4XX.SEARCH&ppt=None&ppn=None&ssid=2u28rm6rm80000001724039290907&qH=712933e6bd68e7b9\n",
      "'https://www.flipkart.com/apple-iphone-12-pro-max-silver-128-gb/p/itm5a51ba742a17e?pid=MOBFWBYZNSNVGGZC&lid=LSTMOBFWBYZNSNVGGZCTPGZZU&marketplace=FLIPKART&q=iphone12pro&store=tyy%2F4io&srno=s_1_24&otracker=search&fm=organic&iid=7ffe363c-f116-4da7-8410-2d6874da9b35.MOBFWBYZNSNVGGZC.SEARCH&ppt=None&ppn=None&ssid=2u28rm6rm80000001724039290907&qH=712933e6bd68e7b9\n",
      " \n"
     ]
    }
   ],
   "source": [
    "try :\n",
    "    for i in bigbox :\n",
    "       print(\"'https://www.flipkart.com\"+i.div.div.div.a['href'])\n",
    "except Exception as e:\n",
    "    print(\" \")"
   ]
  },
  {
   "cell_type": "code",
   "execution_count": 87,
   "id": "289458ea-1326-443b-bc89-997ca29accb1",
   "metadata": {},
   "outputs": [],
   "source": [
    "del bigbox[0:3]"
   ]
  },
  {
   "cell_type": "code",
   "execution_count": 88,
   "id": "1d93a6d3-31cb-4e8d-ba86-adcccde040b8",
   "metadata": {},
   "outputs": [],
   "source": [
    "productlink = \"https://www.flipkart.com\"+bigbox[3].div.div.div.a['href']"
   ]
  },
  {
   "cell_type": "code",
   "execution_count": 89,
   "id": "eff22fe8-6c4d-4225-ba81-01ebb60bc84c",
   "metadata": {},
   "outputs": [],
   "source": [
    "headers = {\n",
    "    'User-Agent': 'Mozilla/5.0 (Windows NT 10.0; Win64; x64) AppleWebKit/537.36 (KHTML, like Gecko) Chrome/58.0.3029.110 Safari/537.3'\n",
    "}\n",
    "\n",
    "# Send the GET request with the headers\n",
    "product_req = requests.get(productlink, headers=headers)\n"
   ]
  },
  {
   "cell_type": "code",
   "execution_count": 90,
   "id": "b1d7c427-0f51-4036-9265-13a6b4a994c9",
   "metadata": {},
   "outputs": [
    {
     "data": {
      "text/plain": [
       "<Response [200]>"
      ]
     },
     "execution_count": 90,
     "metadata": {},
     "output_type": "execute_result"
    }
   ],
   "source": [
    "product_req"
   ]
  },
  {
   "cell_type": "code",
   "execution_count": 120,
   "id": "c8727fd6-3b16-472b-b43f-d557daaf2769",
   "metadata": {},
   "outputs": [
    {
     "data": {
      "text/plain": [
       "'https://www.flipkart.com/apple-iphone-12-pro-max-silver-512-gb/p/itm5d3d37892544f?pid=MOBFWBYZW38NGPNM&lid=LSTMOBFWBYZW38NGPNMW4SVPI&marketplace=FLIPKART&q=iphone12pro&store=tyy%2F4io&srno=s_1_5&otracker=search&fm=organic&iid=7ffe363c-f116-4da7-8410-2d6874da9b35.MOBFWBYZW38NGPNM.SEARCH&ppt=None&ppn=None&ssid=2u28rm6rm80000001724039290907&qH=712933e6bd68e7b9'"
      ]
     },
     "execution_count": 120,
     "metadata": {},
     "output_type": "execute_result"
    }
   ],
   "source": [
    "productlink"
   ]
  },
  {
   "cell_type": "code",
   "execution_count": 140,
   "id": "80462ea4-eb39-491a-97bf-1a3187e3c772",
   "metadata": {},
   "outputs": [],
   "source": [
    "product_html = bs(product_req.text,'html.parser')"
   ]
  },
  {
   "cell_type": "code",
   "execution_count": 154,
   "id": "61746f5c-74dd-450b-a847-071ed3e7120e",
   "metadata": {},
   "outputs": [],
   "source": [
    "comment_box = product_html.find_all(\"div\",{\"class\":\"RcXBOT\"})"
   ]
  },
  {
   "cell_type": "code",
   "execution_count": 155,
   "id": "611d5599-cfcf-4dd7-befe-e612320ce688",
   "metadata": {},
   "outputs": [
    {
     "data": {
      "text/plain": [
       "11"
      ]
     },
     "execution_count": 155,
     "metadata": {},
     "output_type": "execute_result"
    }
   ],
   "source": [
    "len(comment_box)"
   ]
  },
  {
   "cell_type": "code",
   "execution_count": 159,
   "id": "09f6bc9c-e4eb-400a-bbaa-7cd89b9752f1",
   "metadata": {},
   "outputs": [
    {
     "data": {
      "text/plain": [
       "'Flipkart Customer'"
      ]
     },
     "execution_count": 159,
     "metadata": {},
     "output_type": "execute_result"
    }
   ],
   "source": [
    "comment_box[0].div.div.find_all(\"p\",{\"class\":\"_2NsDsF AwS1CA\"})[0].text"
   ]
  },
  {
   "cell_type": "code",
   "execution_count": null,
   "id": "c487f4ea-d9c2-456e-97b7-a2ba4f71aefd",
   "metadata": {},
   "outputs": [],
   "source": []
  },
  {
   "cell_type": "code",
   "execution_count": 183,
   "id": "732b0869-c204-487b-bb6a-5372e29f6c41",
   "metadata": {},
   "outputs": [
    {
     "name": "stdout",
     "output_type": "stream",
     "text": [
      "Flipkart Customer\n",
      "Puneeth Kumar P M\n",
      "Flipkart Customer\n",
      "Aman  Kamboj\n",
      "Abinash Mohanty\n",
      "Mukesh Thakor\n",
      "Flipkart Customer\n",
      "Chirag  bansal\n",
      "Abhishek Tyagi\n",
      "Flipkart Customer\n",
      " \n"
     ]
    }
   ],
   "source": [
    "try :\n",
    "    for i in comment_box:\n",
    "        print(i.div.div.find_all(\"p\",{\"class\":\"_2NsDsF AwS1CA\"})[0].text)\n",
    "except Exception as e :\n",
    "    print(\" \")"
   ]
  },
  {
   "cell_type": "code",
   "execution_count": 163,
   "id": "dbf212d0-3487-4149-8062-e8bd49e893ba",
   "metadata": {},
   "outputs": [
    {
     "data": {
      "text/plain": [
       "'5'"
      ]
     },
     "execution_count": 163,
     "metadata": {},
     "output_type": "execute_result"
    }
   ],
   "source": [
    "comment_box[0].div.div.div.div.text"
   ]
  },
  {
   "cell_type": "code",
   "execution_count": 180,
   "id": "ecb9db33-cfd4-4dbc-b4f8-d847af0e755e",
   "metadata": {},
   "outputs": [
    {
     "name": "stdout",
     "output_type": "stream",
     "text": [
      "5\n",
      "4\n",
      "5\n",
      "5\n",
      "5\n",
      "5\n",
      "5\n",
      "5\n",
      "4\n",
      "5\n",
      " \n"
     ]
    }
   ],
   "source": [
    "try:\n",
    "    for i in comment_box :\n",
    "      print(i.div.div.div.div.text)\n",
    "except Exception as e:\n",
    "    print(\" \")"
   ]
  },
  {
   "cell_type": "code",
   "execution_count": 167,
   "id": "1b50237f-341d-44aa-aaf4-48343244fdff",
   "metadata": {},
   "outputs": [
    {
     "data": {
      "text/plain": [
       "'Worth every penny'"
      ]
     },
     "execution_count": 167,
     "metadata": {},
     "output_type": "execute_result"
    }
   ],
   "source": [
    "comment_box[0].div.div.div.p.text"
   ]
  },
  {
   "cell_type": "code",
   "execution_count": 184,
   "id": "d4f306b9-e945-40dd-bff5-b005b7b96fda",
   "metadata": {},
   "outputs": [
    {
     "name": "stdout",
     "output_type": "stream",
     "text": [
      "Worth every penny\n",
      "Nice product\n",
      "Perfect product!\n",
      "Fabulous!\n",
      "Awesome\n",
      "Highly recommended\n",
      "Terrific purchase\n",
      "Brilliant\n",
      "Wonderful\n",
      "Best in the market!\n",
      "\n"
     ]
    }
   ],
   "source": [
    "try : \n",
    "    for i in comment_box:\n",
    "      print(i.div.div.div.p.text)\n",
    "except Exception as e :\n",
    "    print(\"\")"
   ]
  },
  {
   "cell_type": "code",
   "execution_count": 175,
   "id": "0d4810a6-9447-4d6c-bd35-523a63088934",
   "metadata": {},
   "outputs": [
    {
     "data": {
      "text/plain": [
       "'Using it since last week.The display, photo and performance are best. Touch sensitivity is best. Photos are so natural, night time photos are too good. Photo quality after zooming is also good. Videos are also good. Better to buy Pro Max for longer battery backup. After heavy use, watching movies, battery consumption is 70% per day in average (no idea about backup for game users). Regarding weight, I am used to it. Dint find much difference from Samsung M31S and Flagship models. You can hold ...'"
      ]
     },
     "execution_count": 175,
     "metadata": {},
     "output_type": "execute_result"
    }
   ],
   "source": [
    "comment_box[0].div.div.find_all(\"div\",{\"class\":\"\"})[0].div.text"
   ]
  },
  {
   "cell_type": "code",
   "execution_count": 185,
   "id": "09da3e55-9109-47c1-8af2-c87a4a653394",
   "metadata": {},
   "outputs": [
    {
     "name": "stdout",
     "output_type": "stream",
     "text": [
      "Using it since last week.The display, photo and performance are best. Touch sensitivity is best. Photos are so natural, night time photos are too good. Photo quality after zooming is also good. Videos are also good. Better to buy Pro Max for longer battery backup. After heavy use, watching movies, battery consumption is 70% per day in average (no idea about backup for game users). Regarding weight, I am used to it. Dint find much difference from Samsung M31S and Flagship models. You can hold ...\n",
      "First iPhone, Battery drain faster, camera quality is awesome.\n",
      "Lovely phone ❤️❤️ i love this 🥰🥰\n",
      "love this phone\n",
      "The product is just Awesome  love it 6gbRAM 256gb its enough worth of money.Love the product,good build in camera.Magnificient phn,no other phones can replace it.\n",
      "I love iPhone\n",
      "Highly appreciable after sell service from apple team. I faced issue due to which I rated it only 1 star but now I am changing to 5 star as I got my thing resolved as there was some settings changes.Battery backup is awesome. As I work in profile where phone plays important role. I use my phone for whole day and my battery drains approx 40-45%Camera quality is mind blowing. Specially for outdoor.\n",
      "If you have that much amount to spend ! Just go for it\n",
      "I am moving from the last 12 years of pure or near-pure android experience to iPhone.  First all Google nexus(3,4 &5) phones and then One plus(2, 5t, 6t). I still believe one plus made the best phones until now. (8t and 9 pro are utter disappointment).I believe android allows you to do lot more tasks much simplified than on iOS, but for me, that was not the objective. I wanted to stay away from the phone as much as I can. And I think iPhone is letting me do that. So I am happy with it. Anot...\n",
      "The best ever camera from apple, it gives you 2x more realistic and crystel clear photo than iphone11Its new colour feature(pacific blue) gives you a standard royal vibes as never before, its A14 bionic chip is as faster as wind which is great for gaming\n",
      " \n"
     ]
    }
   ],
   "source": [
    "try :\n",
    "    for i in comment_box :\n",
    "       print(i.div.div.find_all(\"div\",{\"class\":\"\"})[0].div.text)\n",
    "except Exception as e :\n",
    "    print(\" \")"
   ]
  },
  {
   "cell_type": "markdown",
   "id": "200c8018-0c1c-4e78-8880-61417c59a920",
   "metadata": {},
   "source": [
    "## for other mobile or product only change iphone12-->Redmi,Motrola,Nokia etc"
   ]
  }
 ],
 "metadata": {
  "kernelspec": {
   "display_name": "Python 3 (ipykernel)",
   "language": "python",
   "name": "python3"
  },
  "language_info": {
   "codemirror_mode": {
    "name": "ipython",
    "version": 3
   },
   "file_extension": ".py",
   "mimetype": "text/x-python",
   "name": "python",
   "nbconvert_exporter": "python",
   "pygments_lexer": "ipython3",
   "version": "3.11.7"
  }
 },
 "nbformat": 4,
 "nbformat_minor": 5
}
